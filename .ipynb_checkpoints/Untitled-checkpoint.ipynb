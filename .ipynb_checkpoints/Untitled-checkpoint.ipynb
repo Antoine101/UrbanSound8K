{
 "cells": [
  {
   "cell_type": "markdown",
   "id": "e253e080",
   "metadata": {},
   "source": [
    "# <center>UrbanSound8K - Data Augmentation</center>"
   ]
  },
  {
   "cell_type": "code",
   "execution_count": 13,
   "id": "c6c11563",
   "metadata": {},
   "outputs": [],
   "source": [
    "import os\n",
    "import matplotlib.pyplot as plt\n",
    "import pandas as pd\n",
    "import torch\n",
    "import torch.nn as nn\n",
    "from torch.utils.data import Dataset\n",
    "import torchaudio\n",
    "import torchaudio.transforms as transforms"
   ]
  },
  {
   "cell_type": "code",
   "execution_count": 88,
   "id": "176189ef",
   "metadata": {},
   "outputs": [],
   "source": [
    "# Dataset class adapted for this particular notebook\n",
    "class UrbanSound8KDataset(Dataset):\n",
    "    \n",
    "    def __init__(self, dataset_path, feature, preprocessing_parameters, augmentation=False):\n",
    "        self.dataset_path = dataset_path\n",
    "        self.metadata = pd.read_csv(os.path.join(dataset_path, \"UrbanSound8K.csv\"))\n",
    "        self.feature = feature\n",
    "        self.parameters = preprocessing_parameters\n",
    "        self.augmentation = augmentation\n",
    "        \n",
    "    def __len__(self):\n",
    "        return len(self.metadata)\n",
    "    \n",
    "    def __getitem__(self, index):\n",
    "        audio_name = self._get_event_audio_name(index)\n",
    "        class_id = torch.tensor(self._get_event_class_id(index), dtype=torch.long)\n",
    "        signal, sr = self._get_event_signal(index)\n",
    "        signal = self._mix_down_if_necessary(signal)\n",
    "        signal = self._resample_if_necessary(signal, sr)\n",
    "        signal = self._cut_if_necessary(signal)\n",
    "        signal = self._right_pad_if_necessary(signal)\n",
    "        if self.augmentation:\n",
    "            signal = self._signal_augmentation(signal)\n",
    "        if self.feature == \"spectrogram\":\n",
    "            spectrogram = self._spectrogram_transform(signal)\n",
    "            feature = self._db_transform(spectrogram)\n",
    "        elif self.feature == \"mel-spectrogram\":\n",
    "            mel_spectrogram = self._mel_spectrogram_transform(signal)\n",
    "            feature = self._db_transform(mel_spectrogram)\n",
    "        elif self.feature == \"mfcc\":\n",
    "            feature = self._mfcc_transform(signal)\n",
    "        if self.augmentation:\n",
    "            feature = self._feature_augmentation(feature)\n",
    "        return index, audio_name, class_id, signal, feature\n",
    "    \n",
    "    def _get_event_class_id(self, index):\n",
    "        return self.metadata.iloc[index][\"classID\"]\n",
    "    \n",
    "    def _get_event_audio_name(self, index):\n",
    "        return self.metadata.iloc[index][\"slice_file_name\"]\n",
    "    \n",
    "    def _get_event_signal(self, index):\n",
    "        event_fold = f\"fold{self.metadata.iloc[index]['fold']}\"\n",
    "        event_filename = self.metadata.iloc[index][\"slice_file_name\"]\n",
    "        audio_path = os.path.join(self.dataset_path, event_fold, event_filename)\n",
    "        signal, sr = torchaudio.load(audio_path, normalize=True)\n",
    "        return signal, sr\n",
    "    \n",
    "    def _mix_down_if_necessary(self, signal):\n",
    "        if signal.shape[0] > 1:\n",
    "            signal = torch.mean(signal, dim=0, keepdim=True)\n",
    "        return signal\n",
    "        \n",
    "    def _resample_if_necessary(self, signal, sr):\n",
    "        if sr != self.parameters[\"target_sample_rate\"]:\n",
    "            resample_transform = transforms.Resample(sr, self.parameters[\"target_sample_rate\"])\n",
    "            signal = resample_transform(signal)\n",
    "        return signal\n",
    "    \n",
    "    def _cut_if_necessary(self, signal):\n",
    "        if signal.shape[1] > self.parameters[\"n_samples\"]:\n",
    "            signal = signal[:, :self.parameters[\"n_samples\"]]\n",
    "        return signal\n",
    "        \n",
    "    def _right_pad_if_necessary(self, signal):\n",
    "        signal_length = signal.shape[1]\n",
    "        if signal_length < self.parameters[\"n_samples\"]:\n",
    "            num_missing_samples = self.parameters[\"n_samples\"] - signal_length\n",
    "            last_dim_padding = (0, num_missing_samples)\n",
    "            signal = nn.functional.pad(signal, last_dim_padding)\n",
    "        return signal\n",
    "    \n",
    "    def _signal_augmentation(self, signal):\n",
    "        return signal\n",
    "    \n",
    "    def _spectrogram_transform(self, signal):\n",
    "        spectrogram_transform = transforms.Spectrogram(\n",
    "                                                        n_fft = self.parameters[\"n_fft\"],\n",
    "                                                        win_length = self.parameters[\"n_fft\"],\n",
    "                                                        hop_length = self.parameters[\"n_fft\"] // self.parameters[\"hop_denominator\"],\n",
    "                                                        pad = 0,\n",
    "                                                        window_fn = torch.hann_window,\n",
    "                                                        power = 2,\n",
    "                                                        normalized = True,\n",
    "                                                        wkwargs = None,\n",
    "                                                        center = False,\n",
    "                                                        pad_mode = \"reflect\",\n",
    "                                                        onesided = True,\n",
    "                                                        return_complex = False\n",
    "                                                        )  \n",
    "        spectrogram = spectrogram_transform(signal)\n",
    "        return spectrogram\n",
    "    \n",
    "    def _mel_spectrogram_transform(self, signal):\n",
    "        mel_spectrogram_transform = transforms.MelSpectrogram(\n",
    "                                                        sample_rate = self.parameters[\"target_sample_rate\"],\n",
    "                                                        n_fft = self.parameters[\"n_fft\"],\n",
    "                                                        n_mels = self.parameters[\"n_mels\"],\n",
    "                                                        window_fn = torch.hann_window,\n",
    "                                                        power = 2,\n",
    "                                                        normalized = True,\n",
    "                                                        wkwargs = None,\n",
    "                                                        center = True,\n",
    "                                                        pad_mode = \"reflect\",\n",
    "                                                        onesided = True,\n",
    "                                                        norm = None,\n",
    "                                                        mel_scale = \"htk\"\n",
    "                                                        )\n",
    "        mel_spectrogram = mel_spectrogram_transform(signal)\n",
    "        return mel_spectrogram\n",
    "\n",
    "    def _mfcc_transform(self, signal):\n",
    "        mfcc_transform = transforms.MFCC(\n",
    "                                        sample_rate = self.parameters[\"target_sample_rate\"],\n",
    "                                        n_mfcc = self.parameters[\"n_mfcc\"],\n",
    "                                        dct_type = 2,\n",
    "                                        norm = \"ortho\",\n",
    "                                        log_mels = False \n",
    "                                        )\n",
    "        mfcc = mfcc_transform(signal)\n",
    "        return mfcc\n",
    "    \n",
    "    def _db_transform(self, spectrogram):\n",
    "        db_transform = transforms.AmplitudeToDB(stype=\"power\")\n",
    "        spectrogram_db = db_transform(spectrogram)\n",
    "        return spectrogram_db\n",
    "\n",
    "    def _feature_augmentation(self, feature):\n",
    "        frequency_masking = transforms.FrequencyMasking(freq_mask_param=10)\n",
    "        time_masking = transforms.TimeMasking(time_mask_param=80, p=1.0)\n",
    "        feature = frequency_masking(feature)\n",
    "        feature = time_masking(feature)\n",
    "        return feature"
   ]
  },
  {
   "cell_type": "code",
   "execution_count": 95,
   "id": "266b2c07",
   "metadata": {},
   "outputs": [],
   "source": [
    "# Audio pre-processing parameters\n",
    "target_sample_rate = 22050\n",
    "target_length = 4\n",
    "n_samples = target_length * target_sample_rate\n",
    "\n",
    "spectrogram_parameters = {\n",
    "                    \"target_sample_rate\": target_sample_rate,\n",
    "                    \"target_length\": target_length,\n",
    "                    \"n_samples\": n_samples,\n",
    "                    \"n_fft\": 512,\n",
    "                    \"hop_denominator\": 2,\n",
    "}\n",
    "\n",
    "melspectrogram_parameters = {\n",
    "                    \"target_sample_rate\": target_sample_rate,\n",
    "                    \"target_length\": target_length,\n",
    "                    \"n_samples\": n_samples,\n",
    "                    \"n_fft\": 512,\n",
    "                    \"hop_denominator\": 2,\n",
    "                    \"n_mels\": 64, \n",
    "}\n",
    "\n",
    "mfcc_parameters = {\n",
    "                    \"target_sample_rate\": target_sample_rate,\n",
    "                    \"target_length\": target_length,\n",
    "                    \"n_samples\": n_samples,\n",
    "                    \"n_mfcc\": 40      \n",
    "}"
   ]
  },
  {
   "cell_type": "code",
   "execution_count": 96,
   "id": "84fdc622",
   "metadata": {},
   "outputs": [],
   "source": [
    "feature = \"mel-spectrogram\"\n",
    "\n",
    "if feature == \"spectrogram\":\n",
    "    preprocessing_parameters = spectrogram_parameters\n",
    "elif feature == \"mel-spectrogram\":\n",
    "    preprocessing_parameters = melspectrogram_parameters\n",
    "elif feature == \"mfcc\":\n",
    "    preprocessing_parameters = mfcc_parameters"
   ]
  },
  {
   "cell_type": "code",
   "execution_count": 97,
   "id": "e5fc25cb",
   "metadata": {},
   "outputs": [],
   "source": [
    "ds = UrbanSound8KDataset(\n",
    "                        dataset_path=\"dataset\", \n",
    "                        feature=feature,\n",
    "                        preprocessing_parameters=preprocessing_parameters,\n",
    "                        augmentation=True\n",
    "                        )"
   ]
  },
  {
   "cell_type": "code",
   "execution_count": 100,
   "id": "478571db",
   "metadata": {},
   "outputs": [
    {
     "data": {
      "image/png": "[encoded data removed]",
      "text/plain": [
       "<Figure size 576x576 with 1 Axes>"
      ]
     },
     "metadata": {
      "needs_background": "light"
     },
     "output_type": "display_data"
    }
   ],
   "source": [
    "fig, ax = plt.subplots(figsize=(8,8))\n",
    "\n",
    "if feature == \"spectrogram\":\n",
    "    ax.imshow(torch.squeeze(ds[0][4]), extent=[0, target_length, 0, target_sample_rate/2], origin=\"lower\", aspect=\"auto\", cmap=\"viridis\")\n",
    "    ax.set_ylabel(\"Frequency (Hz)\")\n",
    "elif feature == \"mel-spectrogram\":\n",
    "    ax.imshow(torch.squeeze(ds[0][4]), extent=[0, target_length, 0, melspectrogram_parameters[\"n_mels\"]], origin=\"lower\", aspect=\"auto\", cmap=\"viridis\")\n",
    "    ax.set_ylabel(\"Mel Bands\")\n",
    "elif feature == \"mfcc\":\n",
    "    ax.imshow(torch.squeeze(ds[0][4]), extent=[0, target_length, 0, mfcc_parameters[\"n_mfcc\"]], origin=\"lower\", aspect=\"auto\", cmap=\"viridis\")\n",
    "    ax.set_ylabel(\"MFCC\")  \n",
    "    \n",
    "ax.set_xlabel(\"Time (s)\")\n",
    "\n",
    "plt.show()"
   ]
  },
  {
   "cell_type": "code",
   "execution_count": 86,
   "id": "dcedba4f",
   "metadata": {},
   "outputs": [
    {
     "data": {
      "text/plain": [
       "tensor(10.3251)"
      ]
     },
     "execution_count": 86,
     "metadata": {},
     "output_type": "execute_result"
    }
   ],
   "source": [
    "ds[0][4].max()"
   ]
  },
  {
   "cell_type": "code",
   "execution_count": 87,
   "id": "89b93970",
   "metadata": {},
   "outputs": [
    {
     "data": {
      "text/plain": [
       "tensor(-100.)"
      ]
     },
     "execution_count": 87,
     "metadata": {},
     "output_type": "execute_result"
    }
   ],
   "source": [
    "ds[0][4].min()"
   ]
  },
  {
   "cell_type": "code",
   "execution_count": 47,
   "id": "ead71688",
   "metadata": {},
   "outputs": [
    {
     "data": {
      "text/plain": [
       "tensor([ -54.3377,  -61.3388,  -57.3371,  -53.9163,  -57.3384,  -54.3850,\n",
       "         -56.3669,  -60.3395,  -49.2381,  -49.3980,  -51.4346,  -58.6663,\n",
       "         -54.9824,  -60.1651,  -58.3511,  -57.1795,  -57.0478,  -58.9769,\n",
       "         -58.4746,  -57.0429,  -60.9885,  -59.6879,  -56.3903,  -67.3414,\n",
       "         -58.9787,  -55.5557,  -58.3460,  -61.5275,  -84.4539, -100.0000,\n",
       "        -100.0000, -100.0000, -100.0000, -100.0000, -100.0000, -100.0000,\n",
       "        -100.0000, -100.0000, -100.0000, -100.0000, -100.0000, -100.0000,\n",
       "        -100.0000, -100.0000, -100.0000, -100.0000, -100.0000, -100.0000,\n",
       "        -100.0000, -100.0000, -100.0000, -100.0000, -100.0000, -100.0000,\n",
       "        -100.0000, -100.0000, -100.0000, -100.0000, -100.0000, -100.0000,\n",
       "        -100.0000, -100.0000, -100.0000, -100.0000, -100.0000, -100.0000,\n",
       "        -100.0000, -100.0000, -100.0000, -100.0000, -100.0000, -100.0000,\n",
       "        -100.0000, -100.0000, -100.0000, -100.0000, -100.0000, -100.0000,\n",
       "        -100.0000, -100.0000, -100.0000, -100.0000, -100.0000, -100.0000,\n",
       "        -100.0000, -100.0000, -100.0000, -100.0000, -100.0000, -100.0000,\n",
       "        -100.0000, -100.0000, -100.0000, -100.0000, -100.0000, -100.0000,\n",
       "        -100.0000, -100.0000, -100.0000, -100.0000, -100.0000, -100.0000,\n",
       "        -100.0000, -100.0000, -100.0000, -100.0000, -100.0000, -100.0000,\n",
       "        -100.0000, -100.0000, -100.0000, -100.0000, -100.0000, -100.0000,\n",
       "        -100.0000, -100.0000, -100.0000, -100.0000, -100.0000, -100.0000,\n",
       "        -100.0000, -100.0000, -100.0000, -100.0000, -100.0000, -100.0000,\n",
       "        -100.0000, -100.0000, -100.0000, -100.0000, -100.0000, -100.0000,\n",
       "        -100.0000, -100.0000, -100.0000, -100.0000, -100.0000, -100.0000,\n",
       "        -100.0000, -100.0000, -100.0000, -100.0000, -100.0000, -100.0000,\n",
       "        -100.0000, -100.0000, -100.0000, -100.0000, -100.0000, -100.0000,\n",
       "        -100.0000,    0.0000,    0.0000,    0.0000,    0.0000,    0.0000,\n",
       "           0.0000,    0.0000,    0.0000,    0.0000,    0.0000,    0.0000,\n",
       "           0.0000,    0.0000,    0.0000,    0.0000,    0.0000,    0.0000,\n",
       "           0.0000,    0.0000,    0.0000,    0.0000,    0.0000,    0.0000,\n",
       "           0.0000,    0.0000,    0.0000,    0.0000,    0.0000,    0.0000,\n",
       "           0.0000,    0.0000,    0.0000,    0.0000,    0.0000,    0.0000,\n",
       "           0.0000,    0.0000,    0.0000,    0.0000,    0.0000,    0.0000,\n",
       "           0.0000,    0.0000,    0.0000,    0.0000,    0.0000, -100.0000,\n",
       "        -100.0000, -100.0000, -100.0000, -100.0000, -100.0000, -100.0000,\n",
       "        -100.0000, -100.0000, -100.0000, -100.0000, -100.0000, -100.0000,\n",
       "        -100.0000, -100.0000, -100.0000, -100.0000, -100.0000, -100.0000,\n",
       "        -100.0000, -100.0000, -100.0000, -100.0000, -100.0000, -100.0000,\n",
       "        -100.0000, -100.0000, -100.0000, -100.0000, -100.0000, -100.0000,\n",
       "        -100.0000, -100.0000, -100.0000, -100.0000, -100.0000, -100.0000,\n",
       "        -100.0000, -100.0000, -100.0000, -100.0000, -100.0000, -100.0000,\n",
       "        -100.0000, -100.0000, -100.0000, -100.0000, -100.0000, -100.0000,\n",
       "        -100.0000, -100.0000, -100.0000, -100.0000, -100.0000, -100.0000,\n",
       "        -100.0000, -100.0000, -100.0000, -100.0000, -100.0000, -100.0000,\n",
       "        -100.0000, -100.0000, -100.0000, -100.0000, -100.0000, -100.0000,\n",
       "        -100.0000, -100.0000, -100.0000, -100.0000, -100.0000, -100.0000,\n",
       "        -100.0000, -100.0000, -100.0000, -100.0000, -100.0000, -100.0000,\n",
       "        -100.0000, -100.0000, -100.0000, -100.0000, -100.0000, -100.0000,\n",
       "        -100.0000, -100.0000, -100.0000, -100.0000, -100.0000, -100.0000,\n",
       "        -100.0000, -100.0000, -100.0000, -100.0000, -100.0000, -100.0000,\n",
       "        -100.0000, -100.0000, -100.0000, -100.0000, -100.0000, -100.0000,\n",
       "        -100.0000, -100.0000, -100.0000, -100.0000, -100.0000, -100.0000,\n",
       "        -100.0000, -100.0000, -100.0000, -100.0000, -100.0000, -100.0000,\n",
       "        -100.0000, -100.0000, -100.0000, -100.0000, -100.0000, -100.0000,\n",
       "        -100.0000, -100.0000, -100.0000, -100.0000, -100.0000, -100.0000,\n",
       "        -100.0000, -100.0000, -100.0000, -100.0000, -100.0000, -100.0000,\n",
       "        -100.0000, -100.0000, -100.0000, -100.0000, -100.0000, -100.0000,\n",
       "        -100.0000, -100.0000, -100.0000, -100.0000, -100.0000, -100.0000,\n",
       "        -100.0000, -100.0000, -100.0000])"
      ]
     },
     "execution_count": 47,
     "metadata": {},
     "output_type": "execute_result"
    }
   ],
   "source": [
    "ds[0][3][0][1, :]"
   ]
  },
  {
   "cell_type": "code",
   "execution_count": 66,
   "id": "229be514",
   "metadata": {},
   "outputs": [
    {
     "data": {
      "text/plain": [
       "tensor(-0.9266)"
      ]
     },
     "execution_count": 66,
     "metadata": {},
     "output_type": "execute_result"
    }
   ],
   "source": [
    "ds[0][3].min()"
   ]
  }
 ],
 "metadata": {
  "kernelspec": {
   "display_name": "UrbanSound8K",
   "language": "python",
   "name": "urbansound8k"
  },
  "language_info": {
   "codemirror_mode": {
    "name": "ipython",
    "version": 3
   },
   "file_extension": ".py",
   "mimetype": "text/x-python",
   "name": "python",
   "nbconvert_exporter": "python",
   "pygments_lexer": "ipython3",
   "version": "3.9.13"
  }
 },
 "nbformat": 4,
 "nbformat_minor": 5
}
