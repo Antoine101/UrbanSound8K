{
 "cells": [
  {
   "cell_type": "markdown",
   "id": "e1b7d626",
   "metadata": {},
   "source": [
    "# <center>UrbanSound8K</center>"
   ]
  },
  {
   "cell_type": "markdown",
   "id": "53752567",
   "metadata": {
    "toc": true
   },
   "source": [
    "<h1>Table of Contents<span class=\"tocSkip\"></span></h1>\n",
    "<div class=\"toc\"><ul class=\"toc-item\"><li><span><a href=\"#Import-of-Required-Libraries\" data-toc-modified-id=\"Import-of-Required-Libraries-1\">Import of Required Libraries</a></span></li><li><span><a href=\"#Creation-the-Dataset-Class\" data-toc-modified-id=\"Creation-the-Dataset-Class-2\">Creation the Dataset Class</a></span></li><li><span><a href=\"#Creation-of-the-Transforms-for-Audio-Pre-Processing\" data-toc-modified-id=\"Creation-of-the-Transforms-for-Audio-Pre-Processing-3\">Creation of the Transforms for Audio Pre-Processing</a></span></li><li><span><a href=\"#Creation-of-the-Model\" data-toc-modified-id=\"Creation-of-the-Model-4\">Creation of the Model</a></span></li><li><span><a href=\"#Test\" data-toc-modified-id=\"Test-5\">Test</a></span></li><li><span><a href=\"#Dataset-Exploration\" data-toc-modified-id=\"Dataset-Exploration-6\">Dataset Exploration</a></span><ul class=\"toc-item\"><li><span><a href=\"#Classes-Counts\" data-toc-modified-id=\"Classes-Counts-6.1\">Classes Counts</a></span></li><li><span><a href=\"#Duration-of-Events\" data-toc-modified-id=\"Duration-of-Events-6.2\">Duration of Events</a></span></li><li><span><a href=\"#Analysis-of-Salience\" data-toc-modified-id=\"Analysis-of-Salience-6.3\">Analysis of Salience</a></span><ul class=\"toc-item\"><li><span><a href=\"#Global\" data-toc-modified-id=\"Global-6.3.1\">Global</a></span></li><li><span><a href=\"#Per-Class\" data-toc-modified-id=\"Per-Class-6.3.2\">Per Class</a></span></li></ul></li><li><span><a href=\"#Folds-Distribution\" data-toc-modified-id=\"Folds-Distribution-6.4\">Folds Distribution</a></span></li></ul></li></ul></div>"
   ]
  },
  {
   "cell_type": "markdown",
   "id": "7fa371e8",
   "metadata": {},
   "source": [
    "## Import of Required Libraries"
   ]
  },
  {
   "cell_type": "code",
   "execution_count": 68,
   "id": "bec3743b",
   "metadata": {},
   "outputs": [],
   "source": [
    "import os\n",
    "import pandas as pd\n",
    "import torch\n",
    "from torch.utils.data import Dataset\n",
    "import torch.nn as nn\n",
    "import torch.optim as optim\n",
    "import torchaudio\n",
    "import torchaudio.transforms as transforms\n",
    "from random import randint\n",
    "import matplotlib.pyplot as plt\n",
    "import seaborn as sns\n",
    "sns.set_style(\"darkgrid\")"
   ]
  },
  {
   "cell_type": "markdown",
   "id": "58e19056",
   "metadata": {},
   "source": [
    "## Creation the Dataset Class"
   ]
  },
  {
   "cell_type": "code",
   "execution_count": 3,
   "id": "9d26ff32",
   "metadata": {},
   "outputs": [],
   "source": [
    "class UrbanSoundDataset(Dataset):\n",
    "    \n",
    "    def __init__(self, annotations_file, dataset_path, transform, target_sample_rate):\n",
    "        self.annotations = pd.read_csv(os.path.join(dataset_path, annotations_file))\n",
    "        self.dataset_path = dataset_path\n",
    "        self.transform = transform\n",
    "        self.target_sample_rate = target_sample_rate\n",
    "        \n",
    "    def __len__(self):\n",
    "        return len(self.annotations)\n",
    "    \n",
    "    def __getitem__(self, index):\n",
    "        audio_path = self._get_audio_sample_path(index)\n",
    "        label = self._get_audio_sample_label(index)\n",
    "        signal, sr = torchaudio.load(audio_path)\n",
    "        signal = self._mix_down_if_necessary(signal)\n",
    "        signal = self._resample_if_necessary(signal, sr)\n",
    "        if self.transform:\n",
    "            signal = self.transform(signal)\n",
    "        return signal, label\n",
    "        \n",
    "    def _get_audio_sample_path(self, index):                                       \n",
    "        fold = f\"fold{self.annotations.iloc[index, 5]}\"\n",
    "        path = os.path.join(self.dataset_path, fold, self.annotations.iloc[index, 0])\n",
    "        return path\n",
    "    \n",
    "    def _get_audio_sample_label(self, index):\n",
    "        return self.annotations.iloc[index, 6]\n",
    "    \n",
    "    def _mix_down_if_necessary(self, signal):\n",
    "        # If signal has multiple channels, mix down to mono\n",
    "        if signal.shape[0] > 1:\n",
    "            signal = torch.mean(signal, dim=0, keepdim=True)\n",
    "        return signal\n",
    "        \n",
    "    def _resample_if_necessary(self, signal, sr):\n",
    "        if sr != self.target_sample_rate:\n",
    "            resampler = torchaudio.transforms.Resample(sr, self.target_sample_rate)\n",
    "            signal = resampler(signal)\n",
    "        return signal\n",
    "        "
   ]
  },
  {
   "cell_type": "markdown",
   "id": "34c5d70b",
   "metadata": {},
   "source": [
    "## Creation of the Transforms for Audio Pre-Processing"
   ]
  },
  {
   "cell_type": "markdown",
   "id": "2f141bed",
   "metadata": {},
   "source": [
    "## Creation of the Model"
   ]
  },
  {
   "cell_type": "code",
   "execution_count": null,
   "id": "d7ea955e",
   "metadata": {},
   "outputs": [],
   "source": []
  },
  {
   "cell_type": "markdown",
   "id": "07fff039",
   "metadata": {},
   "source": [
    "## Test"
   ]
  },
  {
   "cell_type": "code",
   "execution_count": 5,
   "id": "e34f6385",
   "metadata": {},
   "outputs": [
    {
     "name": "stdout",
     "output_type": "stream",
     "text": [
      "There are 8732 samples in the dataset\n",
      "tensor([[[5.9251e-04, 8.3826e-04, 9.5454e-05, 1.0171e-03, 4.7913e-04,\n",
      "          1.6122e-04, 9.2122e-05, 1.5897e-04, 5.1358e-05, 1.3561e-04],\n",
      "         [1.1820e-03, 1.0683e-03, 1.1457e-03, 6.4868e-03, 4.1271e-03,\n",
      "          1.4092e-03, 7.9711e-04, 5.6833e-04, 3.6605e-04, 6.6183e-04],\n",
      "         [3.0207e-03, 3.7174e-03, 4.7081e-03, 5.5488e-03, 2.2803e-03,\n",
      "          1.8242e-03, 2.9318e-03, 2.5542e-03, 2.2006e-03, 2.9955e-03],\n",
      "         [1.5446e-03, 8.2651e-03, 5.8801e-03, 2.0114e-02, 1.0481e-03,\n",
      "          7.9804e-04, 1.8259e-03, 1.8869e-03, 2.7578e-03, 3.2023e-03],\n",
      "         [7.4168e-04, 3.5674e-03, 3.6354e-02, 5.9762e-02, 3.1322e-03,\n",
      "          3.9149e-03, 5.1392e-04, 4.6461e-04, 6.8625e-04, 1.5702e-03],\n",
      "         [1.9557e-03, 3.2061e-02, 1.3300e-01, 1.6585e-01, 3.4332e-02,\n",
      "          9.3192e-03, 1.6575e-03, 1.2765e-03, 2.2374e-03, 1.1519e-03],\n",
      "         [1.4192e-03, 7.4624e-02, 3.3315e-02, 9.7095e-02, 5.7332e-02,\n",
      "          1.1877e-02, 1.0860e-02, 2.8192e-03, 6.4316e-03, 2.3993e-03],\n",
      "         [3.3329e-03, 2.5180e-02, 7.1592e-03, 6.7157e-02, 1.9230e-02,\n",
      "          8.4994e-03, 1.0009e-02, 7.1113e-04, 2.5492e-03, 5.4383e-04],\n",
      "         [8.5697e-03, 1.4136e-02, 1.6392e-02, 2.5324e-02, 2.1738e-02,\n",
      "          1.1918e-02, 2.0844e-03, 1.3931e-03, 3.1908e-03, 7.0435e-04],\n",
      "         [1.5308e-03, 2.3447e-02, 3.2226e-02, 4.3224e-02, 3.6963e-02,\n",
      "          1.1966e-02, 3.2290e-03, 1.4714e-03, 1.6397e-03, 3.6113e-04],\n",
      "         [9.6197e-04, 9.9386e-02, 5.8544e-02, 3.4105e-02, 2.2451e-02,\n",
      "          1.1459e-02, 8.8318e-03, 3.6803e-03, 1.6467e-03, 1.5249e-03],\n",
      "         [7.3435e-03, 3.1452e-01, 2.2818e-01, 7.3477e-02, 1.1085e-01,\n",
      "          2.6472e-02, 8.1205e-03, 4.3130e-03, 1.4566e-03, 1.9493e-03],\n",
      "         [2.8509e-02, 1.8823e-01, 1.9101e-01, 2.1090e-01, 8.1854e-02,\n",
      "          1.6972e-02, 7.3885e-03, 1.2983e-02, 2.2744e-03, 1.4675e-03],\n",
      "         [1.0397e+00, 6.0427e-01, 8.7562e-01, 1.0622e+00, 3.8602e-01,\n",
      "          5.0932e-02, 2.3794e-02, 1.1993e-02, 3.5905e-03, 1.3518e-03],\n",
      "         [9.6057e-01, 1.5515e+00, 2.2411e+01, 1.1154e+00, 1.1110e+00,\n",
      "          4.0495e-01, 2.1268e-02, 2.5071e-02, 3.9110e-03, 2.7233e-03],\n",
      "         [2.4050e-01, 5.2874e+00, 2.7712e+01, 7.2517e+00, 2.3456e+00,\n",
      "          7.9056e-01, 3.4251e-02, 4.9664e-02, 5.0704e-03, 5.0117e-03],\n",
      "         [3.1447e-01, 2.3087e+01, 4.3699e+01, 2.9554e+02, 5.7765e+01,\n",
      "          8.3598e+00, 5.1581e-01, 9.5904e-02, 1.5348e-01, 3.2658e-02],\n",
      "         [4.4516e-01, 1.9794e+01, 1.6427e+02, 3.8522e+02, 4.9956e+01,\n",
      "          6.0021e+00, 9.9438e-01, 1.7018e-01, 1.8734e-01, 6.0099e-02],\n",
      "         [3.0953e-01, 1.4227e+03, 3.4258e+02, 1.6714e+02, 3.2172e+01,\n",
      "          1.6101e+00, 8.7768e-01, 2.9014e-01, 8.5381e-02, 5.6074e-02],\n",
      "         [3.4171e-01, 3.6890e+03, 8.9625e+02, 1.5679e+03, 1.9262e+02,\n",
      "          5.6282e+00, 5.0002e+00, 1.7673e+00, 3.7447e-01, 1.1011e-01],\n",
      "         [1.2430e-01, 5.9925e+02, 1.3278e+03, 1.8852e+03, 3.7614e+02,\n",
      "          2.1777e+01, 1.1874e+01, 4.9566e+00, 7.4725e-01, 1.1492e-01],\n",
      "         [4.1325e-01, 1.5022e+02, 8.5555e+02, 4.0014e+02, 2.5458e+02,\n",
      "          3.6955e+01, 9.6503e+00, 2.3285e+00, 6.9784e-01, 2.5114e-01],\n",
      "         [3.0267e+00, 1.5089e+02, 1.0475e+03, 1.5510e+03, 5.4854e+02,\n",
      "          6.1370e+01, 1.7123e+01, 1.7978e+00, 3.3652e+00, 1.0047e+00],\n",
      "         [2.0216e+00, 3.8078e+01, 7.8946e+02, 1.1920e+03, 8.7139e+02,\n",
      "          1.7746e+02, 3.3825e+01, 2.0399e+00, 1.3529e+00, 3.8502e-01],\n",
      "         [1.5351e-01, 8.8992e+00, 3.4490e+02, 2.3760e+02, 5.6347e+02,\n",
      "          1.0741e+02, 2.3586e+01, 1.8916e+00, 5.2893e-01, 2.5052e-01],\n",
      "         [6.7105e-02, 7.4348e+00, 4.7446e+01, 8.4734e+01, 6.7299e+01,\n",
      "          1.2145e+02, 1.1552e+01, 1.0040e+00, 4.9883e-01, 1.4927e-01],\n",
      "         [6.9997e-02, 3.0184e+01, 1.2092e+02, 2.6879e+02, 4.8855e+01,\n",
      "          2.8335e+01, 3.4511e+00, 4.7461e-01, 1.0319e-01, 5.8931e-02],\n",
      "         [1.0241e-01, 6.3899e+00, 1.6657e+02, 6.9751e+02, 7.0281e+01,\n",
      "          3.0292e+01, 5.6443e+00, 1.4253e+00, 2.7080e-01, 8.0225e-02],\n",
      "         [2.6103e-01, 1.2613e+01, 4.6638e+01, 2.4535e+02, 1.2229e+02,\n",
      "          1.7954e+01, 4.7637e+00, 5.5207e-01, 2.1533e-01, 3.2843e-02],\n",
      "         [8.2699e-01, 1.3376e+02, 4.7233e+02, 8.0356e+02, 2.0663e+02,\n",
      "          1.6336e+01, 1.4569e+01, 5.6642e+00, 1.2934e+00, 1.4508e-01],\n",
      "         [4.8891e-01, 4.2879e+02, 1.9330e+03, 3.8653e+03, 9.9056e+02,\n",
      "          1.1128e+02, 4.5734e+01, 1.1640e+01, 3.8095e+00, 1.3668e+00],\n",
      "         [1.2085e-01, 1.6559e+02, 9.2498e+02, 3.3159e+03, 1.2505e+03,\n",
      "          1.3524e+02, 5.0607e+01, 8.9266e+00, 3.0632e+00, 1.0651e+00],\n",
      "         [2.1598e-02, 2.8473e+01, 2.1092e+02, 3.6991e+02, 1.9268e+02,\n",
      "          4.4429e+01, 4.1333e+00, 1.1542e+00, 2.4477e-01, 1.6159e-01],\n",
      "         [6.8691e-02, 1.2585e+01, 1.7803e+02, 3.5753e+02, 3.5509e+02,\n",
      "          1.8189e+01, 2.8996e+00, 6.9433e-01, 1.1185e-01, 1.1876e-01],\n",
      "         [1.4093e-01, 1.5162e+01, 1.2555e+02, 3.6572e+02, 1.2157e+02,\n",
      "          2.7555e+01, 9.9794e+00, 4.2669e-01, 3.7039e-01, 1.1188e-01],\n",
      "         [7.9074e-02, 1.1275e+01, 2.2126e+02, 6.5990e+02, 8.6617e+02,\n",
      "          2.5265e+01, 4.9424e+00, 2.6757e+00, 9.6062e-01, 1.2387e-01],\n",
      "         [1.9487e-02, 1.0155e+01, 6.1778e+02, 1.5409e+03, 1.1897e+03,\n",
      "          2.5366e+01, 9.6087e+00, 2.8767e+00, 5.7524e-01, 2.3383e-01],\n",
      "         [5.3282e-02, 4.5414e+01, 7.0857e+02, 8.4579e+02, 5.5095e+02,\n",
      "          1.3395e+01, 2.3627e+00, 1.1371e+00, 3.7892e-01, 1.1072e-01],\n",
      "         [3.7806e-01, 7.3339e+01, 4.1540e+02, 3.6228e+02, 1.9482e+02,\n",
      "          1.7420e+01, 1.9954e+00, 6.0150e-01, 2.3274e-01, 3.8105e-02],\n",
      "         [9.4951e-01, 3.9059e+01, 7.7902e+01, 8.0894e+01, 1.0246e+02,\n",
      "          7.1574e+00, 9.4877e-01, 1.8561e-01, 8.8854e-02, 3.0978e-02],\n",
      "         [1.2093e-01, 7.7296e+00, 4.0573e+01, 1.1260e+02, 8.7059e+01,\n",
      "          8.9097e+00, 1.1779e+00, 4.9589e-01, 6.1577e-02, 2.8602e-02],\n",
      "         [9.2215e-03, 1.0779e+01, 7.8125e+01, 1.2454e+02, 6.8876e+01,\n",
      "          7.0285e+00, 1.1645e+00, 1.8078e-01, 5.0678e-02, 2.5441e-02],\n",
      "         [6.6643e-02, 4.4754e+00, 2.3743e+01, 9.3253e+01, 1.9476e+01,\n",
      "          3.2326e+00, 6.9478e-01, 1.2009e-01, 6.4530e-02, 9.2927e-03],\n",
      "         [4.2909e-02, 4.4635e+00, 1.4185e+01, 8.9562e+01, 1.9039e+01,\n",
      "          1.9663e+00, 4.3118e-01, 1.1880e-01, 4.6699e-02, 8.6494e-03],\n",
      "         [6.3607e-03, 1.1153e+01, 9.3729e+00, 4.6756e+01, 1.8669e+01,\n",
      "          2.1288e+00, 3.2081e-01, 5.7469e-02, 2.8070e-02, 6.1663e-03],\n",
      "         [4.6557e-03, 3.2103e+00, 7.0910e+00, 3.4900e+01, 8.9368e+00,\n",
      "          1.2574e+00, 1.4672e-01, 5.1781e-02, 1.0376e-02, 3.5858e-03],\n",
      "         [1.6643e-03, 4.1570e-01, 3.1763e+00, 7.4956e+00, 2.8463e+00,\n",
      "          5.0628e-01, 1.0910e-01, 2.4549e-02, 8.1721e-03, 2.2751e-03],\n",
      "         [5.8444e-04, 1.5609e-01, 1.7035e+00, 6.2297e+00, 2.6862e+00,\n",
      "          4.6026e-01, 7.6477e-02, 1.0717e-02, 7.4802e-03, 1.5289e-03],\n",
      "         [1.7744e-03, 4.5797e-01, 1.0044e+00, 2.0504e+00, 1.4987e+00,\n",
      "          3.5907e-01, 8.8028e-02, 1.2116e-02, 3.4642e-03, 1.1636e-03],\n",
      "         [9.5224e-03, 1.6853e+00, 2.8677e+00, 6.0655e+00, 1.9712e+00,\n",
      "          8.0937e+00, 3.8759e-01, 5.6646e-02, 1.3815e-02, 6.9983e-03],\n",
      "         [5.5774e-03, 3.8153e-01, 5.9701e+00, 5.7369e+00, 2.0084e+00,\n",
      "          8.3666e+00, 2.4415e-01, 6.8994e-02, 1.3517e-02, 7.0109e-03],\n",
      "         [6.2972e-03, 3.0200e-01, 1.8895e+00, 1.9671e+00, 4.8946e-01,\n",
      "          3.8451e-01, 4.6529e-02, 2.1486e-02, 2.8345e-03, 4.5468e-04],\n",
      "         [5.4329e-03, 1.4326e-01, 4.7419e-01, 1.7368e+00, 4.0338e-01,\n",
      "          1.9570e-01, 5.6594e-02, 5.1740e-03, 1.3323e-03, 4.6706e-04],\n",
      "         [4.6294e-04, 1.3982e-01, 1.4917e-01, 7.6353e-01, 4.7422e-01,\n",
      "          1.2027e-01, 2.2960e-02, 3.1376e-03, 1.0623e-03, 5.0481e-04],\n",
      "         [4.5179e-04, 4.6096e-02, 2.7670e-01, 1.0010e+00, 5.5972e-01,\n",
      "          9.5919e-02, 1.5230e-02, 3.5361e-03, 1.4249e-03, 2.5673e-04],\n",
      "         [2.6685e-04, 1.0508e-01, 3.6992e-01, 4.2928e-01, 9.1284e-01,\n",
      "          2.3557e-01, 3.4079e-02, 6.4347e-03, 1.1706e-03, 4.5173e-04],\n",
      "         [1.0767e-04, 5.3702e-02, 2.4246e-01, 8.7908e-01, 1.0571e+00,\n",
      "          2.2114e-01, 3.6099e-02, 6.9491e-03, 1.1537e-03, 3.5797e-04],\n",
      "         [5.5300e-05, 2.6623e-02, 3.8962e-01, 1.8019e+00, 8.5510e-01,\n",
      "          2.2527e-01, 2.9932e-02, 6.7002e-03, 7.2325e-04, 4.0280e-04],\n",
      "         [1.0505e-04, 3.5804e-02, 4.1047e-01, 1.0790e+00, 7.4644e-01,\n",
      "          1.0913e-01, 2.5741e-02, 8.4752e-03, 1.0771e-03, 4.1392e-04],\n",
      "         [1.9254e-04, 1.3223e-02, 3.8195e-01, 9.5765e-01, 6.1206e-01,\n",
      "          9.1961e-02, 1.8640e-02, 2.8576e-03, 1.1193e-03, 3.2162e-04],\n",
      "         [1.1203e-04, 1.3000e-02, 2.9737e-01, 2.9201e-01, 2.3351e-01,\n",
      "          6.0485e-02, 1.1343e-02, 2.4875e-03, 6.4435e-04, 1.9483e-04],\n",
      "         [1.4684e-04, 1.6640e-02, 2.5190e-01, 4.3363e-01, 2.3197e-01,\n",
      "          5.4218e-02, 4.8450e-03, 1.4188e-03, 3.8131e-04, 1.0147e-04],\n",
      "         [2.6146e-04, 1.9687e-02, 3.4098e-01, 1.8751e+00, 1.0754e+00,\n",
      "          1.3471e-01, 2.1945e-02, 3.5953e-03, 7.5188e-04, 2.7250e-04],\n",
      "         [1.5274e-04, 3.4066e-02, 1.5498e+00, 5.3437e+00, 1.5296e+00,\n",
      "          1.7275e-01, 2.3546e-02, 6.8308e-03, 1.4963e-03, 3.4097e-04]]])\n",
      "3\n"
     ]
    },
    {
     "name": "stderr",
     "output_type": "stream",
     "text": [
      "[W NNPACK.cpp:79] Could not initialize NNPACK! Reason: Unsupported hardware.\n"
     ]
    }
   ],
   "source": [
    "if __name__ == \"__main__\":\n",
    "    \n",
    "    annotations_file = \"UrbanSound8K.csv\"\n",
    "    dataset_path = \"dataset\"\n",
    "    target_sample_rate = 16000\n",
    "\n",
    "    mel_spectrogram_transform = torchaudio.transforms.MelSpectrogram(\n",
    "        sample_rate = target_sample_rate,\n",
    "        n_fft = 1024,\n",
    "        hop_length = 512,\n",
    "        n_mels = 64\n",
    "    )\n",
    "    \n",
    "    dataset = UrbanSoundDataset(annotations_file, dataset_path, mel_spectrogram_transform, target_sample_rate)\n",
    "    \n",
    "    print(f\"There are {len(dataset)} samples in the dataset\")\n",
    "    \n",
    "    signal, label = dataset[0]\n",
    "    print(signal)\n",
    "    print(label)"
   ]
  },
  {
   "cell_type": "code",
   "execution_count": 6,
   "id": "d425a60b",
   "metadata": {},
   "outputs": [
    {
     "data": {
      "text/html": [
       "<div>\n",
       "<style scoped>\n",
       "    .dataframe tbody tr th:only-of-type {\n",
       "        vertical-align: middle;\n",
       "    }\n",
       "\n",
       "    .dataframe tbody tr th {\n",
       "        vertical-align: top;\n",
       "    }\n",
       "\n",
       "    .dataframe thead th {\n",
       "        text-align: right;\n",
       "    }\n",
       "</style>\n",
       "<table border=\"1\" class=\"dataframe\">\n",
       "  <thead>\n",
       "    <tr style=\"text-align: right;\">\n",
       "      <th></th>\n",
       "      <th>slice_file_name</th>\n",
       "      <th>fsID</th>\n",
       "      <th>start</th>\n",
       "      <th>end</th>\n",
       "      <th>salience</th>\n",
       "      <th>fold</th>\n",
       "      <th>classID</th>\n",
       "      <th>class</th>\n",
       "    </tr>\n",
       "  </thead>\n",
       "  <tbody>\n",
       "    <tr>\n",
       "      <th>0</th>\n",
       "      <td>100032-3-0-0.wav</td>\n",
       "      <td>100032</td>\n",
       "      <td>0.000000</td>\n",
       "      <td>0.317551</td>\n",
       "      <td>1</td>\n",
       "      <td>5</td>\n",
       "      <td>3</td>\n",
       "      <td>dog_bark</td>\n",
       "    </tr>\n",
       "    <tr>\n",
       "      <th>1</th>\n",
       "      <td>100263-2-0-117.wav</td>\n",
       "      <td>100263</td>\n",
       "      <td>58.500000</td>\n",
       "      <td>62.500000</td>\n",
       "      <td>1</td>\n",
       "      <td>5</td>\n",
       "      <td>2</td>\n",
       "      <td>children_playing</td>\n",
       "    </tr>\n",
       "    <tr>\n",
       "      <th>2</th>\n",
       "      <td>100263-2-0-121.wav</td>\n",
       "      <td>100263</td>\n",
       "      <td>60.500000</td>\n",
       "      <td>64.500000</td>\n",
       "      <td>1</td>\n",
       "      <td>5</td>\n",
       "      <td>2</td>\n",
       "      <td>children_playing</td>\n",
       "    </tr>\n",
       "    <tr>\n",
       "      <th>3</th>\n",
       "      <td>100263-2-0-126.wav</td>\n",
       "      <td>100263</td>\n",
       "      <td>63.000000</td>\n",
       "      <td>67.000000</td>\n",
       "      <td>1</td>\n",
       "      <td>5</td>\n",
       "      <td>2</td>\n",
       "      <td>children_playing</td>\n",
       "    </tr>\n",
       "    <tr>\n",
       "      <th>4</th>\n",
       "      <td>100263-2-0-137.wav</td>\n",
       "      <td>100263</td>\n",
       "      <td>68.500000</td>\n",
       "      <td>72.500000</td>\n",
       "      <td>1</td>\n",
       "      <td>5</td>\n",
       "      <td>2</td>\n",
       "      <td>children_playing</td>\n",
       "    </tr>\n",
       "    <tr>\n",
       "      <th>...</th>\n",
       "      <td>...</td>\n",
       "      <td>...</td>\n",
       "      <td>...</td>\n",
       "      <td>...</td>\n",
       "      <td>...</td>\n",
       "      <td>...</td>\n",
       "      <td>...</td>\n",
       "      <td>...</td>\n",
       "    </tr>\n",
       "    <tr>\n",
       "      <th>8727</th>\n",
       "      <td>99812-1-2-0.wav</td>\n",
       "      <td>99812</td>\n",
       "      <td>159.522205</td>\n",
       "      <td>163.522205</td>\n",
       "      <td>2</td>\n",
       "      <td>7</td>\n",
       "      <td>1</td>\n",
       "      <td>car_horn</td>\n",
       "    </tr>\n",
       "    <tr>\n",
       "      <th>8728</th>\n",
       "      <td>99812-1-3-0.wav</td>\n",
       "      <td>99812</td>\n",
       "      <td>181.142431</td>\n",
       "      <td>183.284976</td>\n",
       "      <td>2</td>\n",
       "      <td>7</td>\n",
       "      <td>1</td>\n",
       "      <td>car_horn</td>\n",
       "    </tr>\n",
       "    <tr>\n",
       "      <th>8729</th>\n",
       "      <td>99812-1-4-0.wav</td>\n",
       "      <td>99812</td>\n",
       "      <td>242.691902</td>\n",
       "      <td>246.197885</td>\n",
       "      <td>2</td>\n",
       "      <td>7</td>\n",
       "      <td>1</td>\n",
       "      <td>car_horn</td>\n",
       "    </tr>\n",
       "    <tr>\n",
       "      <th>8730</th>\n",
       "      <td>99812-1-5-0.wav</td>\n",
       "      <td>99812</td>\n",
       "      <td>253.209850</td>\n",
       "      <td>255.741948</td>\n",
       "      <td>2</td>\n",
       "      <td>7</td>\n",
       "      <td>1</td>\n",
       "      <td>car_horn</td>\n",
       "    </tr>\n",
       "    <tr>\n",
       "      <th>8731</th>\n",
       "      <td>99812-1-6-0.wav</td>\n",
       "      <td>99812</td>\n",
       "      <td>332.289233</td>\n",
       "      <td>334.821332</td>\n",
       "      <td>2</td>\n",
       "      <td>7</td>\n",
       "      <td>1</td>\n",
       "      <td>car_horn</td>\n",
       "    </tr>\n",
       "  </tbody>\n",
       "</table>\n",
       "<p>8732 rows × 8 columns</p>\n",
       "</div>"
      ],
      "text/plain": [
       "         slice_file_name    fsID       start         end  salience  fold  \\\n",
       "0       100032-3-0-0.wav  100032    0.000000    0.317551         1     5   \n",
       "1     100263-2-0-117.wav  100263   58.500000   62.500000         1     5   \n",
       "2     100263-2-0-121.wav  100263   60.500000   64.500000         1     5   \n",
       "3     100263-2-0-126.wav  100263   63.000000   67.000000         1     5   \n",
       "4     100263-2-0-137.wav  100263   68.500000   72.500000         1     5   \n",
       "...                  ...     ...         ...         ...       ...   ...   \n",
       "8727     99812-1-2-0.wav   99812  159.522205  163.522205         2     7   \n",
       "8728     99812-1-3-0.wav   99812  181.142431  183.284976         2     7   \n",
       "8729     99812-1-4-0.wav   99812  242.691902  246.197885         2     7   \n",
       "8730     99812-1-5-0.wav   99812  253.209850  255.741948         2     7   \n",
       "8731     99812-1-6-0.wav   99812  332.289233  334.821332         2     7   \n",
       "\n",
       "      classID             class  \n",
       "0           3          dog_bark  \n",
       "1           2  children_playing  \n",
       "2           2  children_playing  \n",
       "3           2  children_playing  \n",
       "4           2  children_playing  \n",
       "...       ...               ...  \n",
       "8727        1          car_horn  \n",
       "8728        1          car_horn  \n",
       "8729        1          car_horn  \n",
       "8730        1          car_horn  \n",
       "8731        1          car_horn  \n",
       "\n",
       "[8732 rows x 8 columns]"
      ]
     },
     "execution_count": 6,
     "metadata": {},
     "output_type": "execute_result"
    }
   ],
   "source": [
    "dataset.annotations"
   ]
  },
  {
   "cell_type": "markdown",
   "id": "108fce5d",
   "metadata": {},
   "source": [
    "## Dataset Exploration"
   ]
  },
  {
   "cell_type": "markdown",
   "id": "543a33e7",
   "metadata": {},
   "source": [
    "### Classes Counts"
   ]
  },
  {
   "cell_type": "code",
   "execution_count": 60,
   "id": "918378fb",
   "metadata": {},
   "outputs": [
    {
     "data": {
      "image/png": "[encoded data removed]",
      "text/plain": [
       "<Figure size 1296x576 with 1 Axes>"
      ]
     },
     "metadata": {
      "needs_background": "light"
     },
     "output_type": "display_data"
    }
   ],
   "source": [
    "class_vc = dataset.annotations[\"class\"].value_counts()\n",
    "plt.figure(figsize=(18,8))\n",
    "sns.barplot(x=class_vc.index, y=class_vc.values)\n",
    "plt.title(\"Classes Counts\", fontsize=20)\n",
    "plt.xlabel(\"Classes\", fontsize=14)\n",
    "plt.ylabel(\"Counts\", fontsize=14)\n",
    "plt.show()"
   ]
  },
  {
   "cell_type": "markdown",
   "id": "949af52d",
   "metadata": {},
   "source": [
    "### Duration of Events"
   ]
  },
  {
   "cell_type": "code",
   "execution_count": 75,
   "id": "8ae986a3",
   "metadata": {},
   "outputs": [
    {
     "data": {
      "text/plain": [
       "Text(0, 0.5, 'Counts')"
      ]
     },
     "execution_count": 75,
     "metadata": {},
     "output_type": "execute_result"
    },
    {
     "data": {
      "image/png": "[encoded data removed]",
      "text/plain": [
       "<Figure size 1296x576 with 1 Axes>"
      ]
     },
     "metadata": {},
     "output_type": "display_data"
    }
   ],
   "source": [
    "duration = dataset.annotations[\"end\"] - dataset.annotations[\"start\"]\n",
    "plt.figure(figsize=(18,8))\n",
    "sns.histplot(data=duration, x=duration.values, bins=20)\n",
    "plt.title(\"Duration of Events\", fontsize=20)\n",
    "plt.xlabel(\"Duration\", fontsize=14)\n",
    "plt.ylabel(\"Counts\", fontsize=14)"
   ]
  },
  {
   "cell_type": "markdown",
   "id": "89feb341",
   "metadata": {},
   "source": [
    "### Analysis of Salience"
   ]
  },
  {
   "cell_type": "markdown",
   "id": "84da8dcf",
   "metadata": {},
   "source": [
    "#### Global"
   ]
  },
  {
   "cell_type": "code",
   "execution_count": 78,
   "id": "44d1f1a1",
   "metadata": {},
   "outputs": [
    {
     "data": {
      "image/png": "[encoded data removed]",
      "text/plain": [
       "<Figure size 1008x432 with 1 Axes>"
      ]
     },
     "metadata": {},
     "output_type": "display_data"
    }
   ],
   "source": [
    "salience_vc = dataset.annotations[\"salience\"].value_counts()\n",
    "plt.figure(figsize=(14,6))\n",
    "sns.barplot(x=salience_vc.index, y=salience_vc.values)\n",
    "plt.title(\"Salience Counts\", fontsize=20)\n",
    "plt.xlabel(\"Salience\", fontsize=14)\n",
    "plt.ylabel(\"Counts\", fontsize=14)\n",
    "plt.show()"
   ]
  },
  {
   "cell_type": "markdown",
   "id": "a125ae29",
   "metadata": {},
   "source": [
    "#### Per Class"
   ]
  },
  {
   "cell_type": "code",
   "execution_count": null,
   "id": "51208ebe",
   "metadata": {},
   "outputs": [],
   "source": []
  },
  {
   "cell_type": "markdown",
   "id": "450cd46f",
   "metadata": {},
   "source": [
    "### Folds Distribution"
   ]
  },
  {
   "cell_type": "code",
   "execution_count": null,
   "id": "8a8c8500",
   "metadata": {},
   "outputs": [],
   "source": []
  }
 ],
 "metadata": {
  "kernelspec": {
   "display_name": "Python 3 (ipykernel)",
   "language": "python",
   "name": "python3"
  },
  "language_info": {
   "codemirror_mode": {
    "name": "ipython",
    "version": 3
   },
   "file_extension": ".py",
   "mimetype": "text/x-python",
   "name": "python",
   "nbconvert_exporter": "python",
   "pygments_lexer": "ipython3",
   "version": "3.8.12"
  },
  "toc": {
   "base_numbering": 1,
   "nav_menu": {},
   "number_sections": false,
   "sideBar": true,
   "skip_h1_title": true,
   "title_cell": "Table of Contents",
   "title_sidebar": "Contents",
   "toc_cell": true,
   "toc_position": {},
   "toc_section_display": true,
   "toc_window_display": false
  }
 },
 "nbformat": 4,
 "nbformat_minor": 5
}
